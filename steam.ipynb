{
 "cells": [
  {
   "cell_type": "code",
   "id": "initial_id",
   "metadata": {
    "collapsed": true,
    "ExecuteTime": {
     "end_time": "2024-11-11T15:18:43.551898Z",
     "start_time": "2024-11-11T15:18:40.462354Z"
    }
   },
   "source": [
    "from bs4 import BeautifulSoup\n",
    "import pandas as pd\n",
    "\n",
    "# Carregar o conteúdo do arquivo HTML\n",
    "with open('steamdb.html', 'r', encoding='utf-8') as file:\n",
    "    html_content = file.read()\n",
    "\n",
    "# Parsear o HTML\n",
    "soup = BeautifulSoup(html_content, 'html.parser')\n",
    "\n",
    "# Encontre a tabela desejada (aqui assumimos que é a primeira tabela)\n",
    "table = soup.find('table')\n",
    "\n",
    "# Extrair os cabeçalhos\n",
    "headers = [header.text.strip() for header in table.find_all('th')]\n",
    "\n",
    "# Extrair as linhas da tabela\n",
    "rows = []\n",
    "for row in table.find_all('tr')[1:]:  # Ignora a primeira linha se for de cabeçalho\n",
    "    cells = row.find_all('td')\n",
    "    rows.append([cell.text.strip() for cell in cells])\n",
    "\n",
    "# Criar um DataFrame com os dados\n",
    "df = pd.DataFrame(rows, columns=headers)\n"
   ],
   "outputs": [],
   "execution_count": 13
  },
  {
   "metadata": {
    "ExecuteTime": {
     "end_time": "2024-11-11T15:20:36.557811Z",
     "start_time": "2024-11-11T15:20:36.494678Z"
    }
   },
   "cell_type": "code",
   "source": "df.head()",
   "id": "14c08770c735d45e",
   "outputs": [
    {
     "data": {
      "text/plain": [
       "                                                    Name     %      Price  \\\n",
       "0      Age of Wonders 4\\n\\nPlay For Free\\nall-time lo...  -35%  R$ 129,99   \n",
       "1      ICARUS\\n\\nPlay For Free\\nall-time low: R$ 44,2...  -50%   R$ 50,99   \n",
       "2        Age of Water\\n\\nPlay For Freenew historical low  -50%   R$ 74,50   \n",
       "3      Age of Mythology: Retold\\n\\nDaily DealTop Sell...  -20%   R$ 79,99   \n",
       "4            Baldur's Gate 3\\n\\nWeek Long DealTop Seller  -20%  R$ 159,99   \n",
       "\n",
       "   Rating   Release        Ends     Started  \n",
       "0  79.52%  May 2023   in 3 days  4 days ago  \n",
       "1  70.52%  Dec 2021   in 3 days  4 days ago  \n",
       "2  62.71%  Apr 2024   in 3 days  4 days ago  \n",
       "3  86.78%  Sep 2024  in 3 hours  5 days ago  \n",
       "4  95.98%  Aug 2023  in 3 hours  7 days ago  "
      ],
      "text/html": [
       "<div>\n",
       "<style scoped>\n",
       "    .dataframe tbody tr th:only-of-type {\n",
       "        vertical-align: middle;\n",
       "    }\n",
       "\n",
       "    .dataframe tbody tr th {\n",
       "        vertical-align: top;\n",
       "    }\n",
       "\n",
       "    .dataframe thead th {\n",
       "        text-align: right;\n",
       "    }\n",
       "</style>\n",
       "<table border=\"1\" class=\"dataframe\">\n",
       "  <thead>\n",
       "    <tr style=\"text-align: right;\">\n",
       "      <th></th>\n",
       "      <th></th>\n",
       "      <th></th>\n",
       "      <th>Name</th>\n",
       "      <th>%</th>\n",
       "      <th>Price</th>\n",
       "      <th>Rating</th>\n",
       "      <th>Release</th>\n",
       "      <th>Ends</th>\n",
       "      <th>Started</th>\n",
       "    </tr>\n",
       "  </thead>\n",
       "  <tbody>\n",
       "    <tr>\n",
       "      <th>0</th>\n",
       "      <td></td>\n",
       "      <td></td>\n",
       "      <td>Age of Wonders 4\\n\\nPlay For Free\\nall-time lo...</td>\n",
       "      <td>-35%</td>\n",
       "      <td>R$ 129,99</td>\n",
       "      <td>79.52%</td>\n",
       "      <td>May 2023</td>\n",
       "      <td>in 3 days</td>\n",
       "      <td>4 days ago</td>\n",
       "    </tr>\n",
       "    <tr>\n",
       "      <th>1</th>\n",
       "      <td></td>\n",
       "      <td></td>\n",
       "      <td>ICARUS\\n\\nPlay For Free\\nall-time low: R$ 44,2...</td>\n",
       "      <td>-50%</td>\n",
       "      <td>R$ 50,99</td>\n",
       "      <td>70.52%</td>\n",
       "      <td>Dec 2021</td>\n",
       "      <td>in 3 days</td>\n",
       "      <td>4 days ago</td>\n",
       "    </tr>\n",
       "    <tr>\n",
       "      <th>2</th>\n",
       "      <td></td>\n",
       "      <td></td>\n",
       "      <td>Age of Water\\n\\nPlay For Freenew historical low</td>\n",
       "      <td>-50%</td>\n",
       "      <td>R$ 74,50</td>\n",
       "      <td>62.71%</td>\n",
       "      <td>Apr 2024</td>\n",
       "      <td>in 3 days</td>\n",
       "      <td>4 days ago</td>\n",
       "    </tr>\n",
       "    <tr>\n",
       "      <th>3</th>\n",
       "      <td></td>\n",
       "      <td></td>\n",
       "      <td>Age of Mythology: Retold\\n\\nDaily DealTop Sell...</td>\n",
       "      <td>-20%</td>\n",
       "      <td>R$ 79,99</td>\n",
       "      <td>86.78%</td>\n",
       "      <td>Sep 2024</td>\n",
       "      <td>in 3 hours</td>\n",
       "      <td>5 days ago</td>\n",
       "    </tr>\n",
       "    <tr>\n",
       "      <th>4</th>\n",
       "      <td></td>\n",
       "      <td></td>\n",
       "      <td>Baldur's Gate 3\\n\\nWeek Long DealTop Seller</td>\n",
       "      <td>-20%</td>\n",
       "      <td>R$ 159,99</td>\n",
       "      <td>95.98%</td>\n",
       "      <td>Aug 2023</td>\n",
       "      <td>in 3 hours</td>\n",
       "      <td>7 days ago</td>\n",
       "    </tr>\n",
       "  </tbody>\n",
       "</table>\n",
       "</div>"
      ]
     },
     "execution_count": 14,
     "metadata": {},
     "output_type": "execute_result"
    }
   ],
   "execution_count": 14
  },
  {
   "metadata": {
    "ExecuteTime": {
     "end_time": "2024-11-11T15:23:53.145703Z",
     "start_time": "2024-11-11T15:23:53.130701Z"
    }
   },
   "cell_type": "code",
   "source": [
    "# excluir a primeira e a segunda coluna que não possuem nome e nem dados\n",
    "df = df.drop(columns=['', ''])\n",
    "df.head()"
   ],
   "id": "2722d5c2ed2d15bc",
   "outputs": [
    {
     "data": {
      "text/plain": [
       "                                                Name     %      Price  Rating  \\\n",
       "0  Age of Wonders 4\\n\\nPlay For Free\\nall-time lo...  -35%  R$ 129,99  79.52%   \n",
       "1  ICARUS\\n\\nPlay For Free\\nall-time low: R$ 44,2...  -50%   R$ 50,99  70.52%   \n",
       "2    Age of Water\\n\\nPlay For Freenew historical low  -50%   R$ 74,50  62.71%   \n",
       "3  Age of Mythology: Retold\\n\\nDaily DealTop Sell...  -20%   R$ 79,99  86.78%   \n",
       "4        Baldur's Gate 3\\n\\nWeek Long DealTop Seller  -20%  R$ 159,99  95.98%   \n",
       "\n",
       "    Release        Ends     Started  \n",
       "0  May 2023   in 3 days  4 days ago  \n",
       "1  Dec 2021   in 3 days  4 days ago  \n",
       "2  Apr 2024   in 3 days  4 days ago  \n",
       "3  Sep 2024  in 3 hours  5 days ago  \n",
       "4  Aug 2023  in 3 hours  7 days ago  "
      ],
      "text/html": [
       "<div>\n",
       "<style scoped>\n",
       "    .dataframe tbody tr th:only-of-type {\n",
       "        vertical-align: middle;\n",
       "    }\n",
       "\n",
       "    .dataframe tbody tr th {\n",
       "        vertical-align: top;\n",
       "    }\n",
       "\n",
       "    .dataframe thead th {\n",
       "        text-align: right;\n",
       "    }\n",
       "</style>\n",
       "<table border=\"1\" class=\"dataframe\">\n",
       "  <thead>\n",
       "    <tr style=\"text-align: right;\">\n",
       "      <th></th>\n",
       "      <th>Name</th>\n",
       "      <th>%</th>\n",
       "      <th>Price</th>\n",
       "      <th>Rating</th>\n",
       "      <th>Release</th>\n",
       "      <th>Ends</th>\n",
       "      <th>Started</th>\n",
       "    </tr>\n",
       "  </thead>\n",
       "  <tbody>\n",
       "    <tr>\n",
       "      <th>0</th>\n",
       "      <td>Age of Wonders 4\\n\\nPlay For Free\\nall-time lo...</td>\n",
       "      <td>-35%</td>\n",
       "      <td>R$ 129,99</td>\n",
       "      <td>79.52%</td>\n",
       "      <td>May 2023</td>\n",
       "      <td>in 3 days</td>\n",
       "      <td>4 days ago</td>\n",
       "    </tr>\n",
       "    <tr>\n",
       "      <th>1</th>\n",
       "      <td>ICARUS\\n\\nPlay For Free\\nall-time low: R$ 44,2...</td>\n",
       "      <td>-50%</td>\n",
       "      <td>R$ 50,99</td>\n",
       "      <td>70.52%</td>\n",
       "      <td>Dec 2021</td>\n",
       "      <td>in 3 days</td>\n",
       "      <td>4 days ago</td>\n",
       "    </tr>\n",
       "    <tr>\n",
       "      <th>2</th>\n",
       "      <td>Age of Water\\n\\nPlay For Freenew historical low</td>\n",
       "      <td>-50%</td>\n",
       "      <td>R$ 74,50</td>\n",
       "      <td>62.71%</td>\n",
       "      <td>Apr 2024</td>\n",
       "      <td>in 3 days</td>\n",
       "      <td>4 days ago</td>\n",
       "    </tr>\n",
       "    <tr>\n",
       "      <th>3</th>\n",
       "      <td>Age of Mythology: Retold\\n\\nDaily DealTop Sell...</td>\n",
       "      <td>-20%</td>\n",
       "      <td>R$ 79,99</td>\n",
       "      <td>86.78%</td>\n",
       "      <td>Sep 2024</td>\n",
       "      <td>in 3 hours</td>\n",
       "      <td>5 days ago</td>\n",
       "    </tr>\n",
       "    <tr>\n",
       "      <th>4</th>\n",
       "      <td>Baldur's Gate 3\\n\\nWeek Long DealTop Seller</td>\n",
       "      <td>-20%</td>\n",
       "      <td>R$ 159,99</td>\n",
       "      <td>95.98%</td>\n",
       "      <td>Aug 2023</td>\n",
       "      <td>in 3 hours</td>\n",
       "      <td>7 days ago</td>\n",
       "    </tr>\n",
       "  </tbody>\n",
       "</table>\n",
       "</div>"
      ]
     },
     "execution_count": 15,
     "metadata": {},
     "output_type": "execute_result"
    }
   ],
   "execution_count": 15
  },
  {
   "metadata": {
    "ExecuteTime": {
     "end_time": "2024-11-11T16:17:25.795006Z",
     "start_time": "2024-11-11T16:17:25.627702Z"
    }
   },
   "cell_type": "code",
   "source": [
    "# Substituir o '\\n' por um espaço em branco na coluna 'Name'\n",
    "df['Name'] = df['Name'].str.replace('\\n', ' ')\n"
   ],
   "id": "1c628ae2f092f809",
   "outputs": [],
   "execution_count": 18
  },
  {
   "metadata": {},
   "cell_type": "code",
   "outputs": [],
   "execution_count": null,
   "source": "",
   "id": "f625d1aa19d2be5c"
  },
  {
   "metadata": {
    "ExecuteTime": {
     "end_time": "2024-11-11T16:17:32.924012Z",
     "start_time": "2024-11-11T16:17:32.910570Z"
    }
   },
   "cell_type": "code",
   "source": "df.to_csv('tabela_extraida.csv', index=False)  # Para salvar como CSV",
   "id": "93522811285c0c35",
   "outputs": [],
   "execution_count": 19
  },
  {
   "metadata": {},
   "cell_type": "code",
   "outputs": [],
   "execution_count": null,
   "source": "",
   "id": "9ddb51ecae9d6bfb"
  },
  {
   "metadata": {},
   "cell_type": "code",
   "outputs": [],
   "execution_count": null,
   "source": "",
   "id": "d0f2008419765e84"
  },
  {
   "metadata": {},
   "cell_type": "code",
   "outputs": [],
   "execution_count": null,
   "source": "",
   "id": "618511c019f40fa0"
  },
  {
   "metadata": {},
   "cell_type": "code",
   "outputs": [],
   "execution_count": null,
   "source": "",
   "id": "8c5f8113cd4c75e9"
  },
  {
   "metadata": {},
   "cell_type": "code",
   "outputs": [],
   "execution_count": null,
   "source": "",
   "id": "b4511efbbc752c8b"
  },
  {
   "metadata": {},
   "cell_type": "code",
   "outputs": [],
   "execution_count": null,
   "source": "",
   "id": "546cfd5f27b2efa"
  },
  {
   "metadata": {},
   "cell_type": "code",
   "outputs": [],
   "execution_count": null,
   "source": "",
   "id": "f70cc8bd78f9646e"
  }
 ],
 "metadata": {
  "kernelspec": {
   "display_name": "Python 3",
   "language": "python",
   "name": "python3"
  },
  "language_info": {
   "codemirror_mode": {
    "name": "ipython",
    "version": 2
   },
   "file_extension": ".py",
   "mimetype": "text/x-python",
   "name": "python",
   "nbconvert_exporter": "python",
   "pygments_lexer": "ipython2",
   "version": "2.7.6"
  }
 },
 "nbformat": 4,
 "nbformat_minor": 5
}
